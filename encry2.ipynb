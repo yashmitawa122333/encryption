{
  "cells": [
    {
      "cell_type": "code",
      "execution_count": null,
      "metadata": {
        "colab": {
          "base_uri": "https://localhost:8080/"
        },
        "id": "XNg8r2Juhtai",
        "outputId": "afa6ce9b-f696-43de-f0f2-7b7b1d89eeb8"
      },
      "outputs": [
        {
          "name": "stdout",
          "output_type": "stream",
          "text": [
            "Algo of encryption :-\n",
            "Enter the password : - rohitash\n"
          ]
        }
      ],
      "source": [
        "print('Algo of encryption :-')\n",
        "\n",
        "#here we are import the necessary module\n",
        "from PIL import Image as im\n",
        "import numpy as np\n",
        "import cv2 \n",
        "\n",
        "#Reading the image in the np.ndarray\n",
        "img2 = cv2.imread('image2.jpg')\n",
        "img3 = cv2.imread('image3.jpg')\n",
        "img4 = cv2.imread('image4.jpg')\n",
        "img5 = cv2.imread('image5.jpg')\n",
        "img6 = cv2.imread('image6.jpg')\n",
        "img7 = cv2.imread('image7.jpg')\n",
        "img8 = cv2.imread('image8.jpg')\n",
        "img9 = cv2.imread('image9.jpg')\n",
        "img10 = cv2.imread('image10.jpg')\n",
        "img11 = cv2.imread('image11.jpg')\n",
        "img12 = cv2.imread('image12.jpg')\n",
        "img13 = cv2.imread('image13.jpg')\n",
        "img14 = cv2.imread('image14.jpg')\n",
        "img15 = cv2.imread('image15.jpg')\n",
        "img16 = cv2.imread('image16.jpg')\n",
        "img17 = cv2.imread('image17.jpg')\n",
        "img18 = cv2.imread('image18.jpg')\n",
        "img19 = cv2.imread('image19.jpg')\n",
        "img20 = cv2.imread('image20.jpg')\n",
        "img21 = cv2.imread('image21.jpg')\n",
        "img22 = cv2.imread('image22.jpg')\n",
        "img23 = cv2.imread('image23.jpg')\n",
        "img24 = cv2.imread('image24.jpg')\n",
        "img25 = cv2.imread('image25.jpg')\n",
        "img26 = cv2.imread('image26.jpg')\n",
        "img27 = cv2.imread('image27.jpg')\n",
        "\n",
        "#Replacing the word with the image \n",
        "dict = {\n",
        "    'a':img2,\n",
        "    'b':img3,\n",
        "    'c':img4,\n",
        "    'd':img5,\n",
        "    'e':img6,\n",
        "    'f':img7,\n",
        "    'g':img8,\n",
        "    'h':img9,\n",
        "    'i':img10,\n",
        "    'j':img11,\n",
        "    'k':img12,\n",
        "    'l':img13,\n",
        "    'm':img14,\n",
        "    'n':img15,\n",
        "    'o':img16,\n",
        "    'p':img17,\n",
        "    'q':img18,\n",
        "    'r':img19,\n",
        "    's':img20,\n",
        "    't':img21,\n",
        "    'u':img22,\n",
        "    'v':img23,\n",
        "    'w':img24,\n",
        "    'x':img25,\n",
        "    'y':img26,\n",
        "    'z':img27\n",
        "\n",
        "}\n",
        "\n",
        "def imageconverts(a):\n",
        "  img1 = cv2.imread('image1.jpg')\n",
        "  vis = cv2.hconcat([img1,dict[a]])\n",
        "  cv2.imwrite('out1.jpg',vis)\n",
        "  \n",
        "def imageconvert(a):\n",
        "  img101 = cv2.imread('out1.jpg')\n",
        "  vis = cv2.hconcat([img101,dict[a]])\n",
        "  cv2.imwrite('out1.jpg',vis)\n",
        " \n",
        "password = input(\"Enter the password : - \")\n",
        "\n",
        "list1 = []\n",
        "for item in password:\n",
        "  list1.append(item)\n",
        "N = len(list1)+1\n",
        "for items in list1:\n",
        "  if list1.index(items) == 0:\n",
        "    imageconverts(str(items))\n",
        "  else:\n",
        "    imageconvert(str(items))"
      ]
    },
    {
      "cell_type": "code",
      "execution_count": null,
      "metadata": {
        "colab": {
          "base_uri": "https://localhost:8080/"
        },
        "id": "RySquX5KK6bi",
        "outputId": "0e1fc570-c937-4dba-9a85-8d479c367dd8"
      },
      "outputs": [
        {
          "output_type": "stream",
          "name": "stdout",
          "text": [
            "Algo of the decrytion:-\n",
            "The Decrypted password is :-  rohitash\n"
          ]
        }
      ],
      "source": [
        "print('Algo of the decrytion:-')\n",
        "from PIL import Image\n",
        "import cv2\n",
        "import numpy\n",
        "\n",
        "list2 = []\n",
        "def imagecompare(filename1,filename11):\n",
        "  image1 = filename1\n",
        "  image2 = filename11\n",
        "  image3 = numpy.array(image2)\n",
        "\n",
        "  if image3.any() == image2.any():\n",
        "    return 1\n",
        "  else:\n",
        "    return 0\n",
        "\n",
        "def convert_list_to_string(org_list, seperator=''):\n",
        "    return seperator.join(org_list)\n",
        "\n",
        "def slice_image(filename, N):\n",
        "\n",
        "    i = Image.open(filename)\n",
        "\n",
        "    width = i.width\n",
        "    height = i.height\n",
        "    x = 0\n",
        "    while x < N:\n",
        "      img = i.crop((x * width/N ,width/N ,x*width/N+width/N , height))\n",
        "      # img.save(f\"filename2{x}.jpg\")\n",
        "      for item in list1:\n",
        "        g = imagecompare(img,dict[item])\n",
        "        if g == 1:\n",
        "          list2.append(item)\n",
        "        else:\n",
        "          print(\"image is not same.\")\n",
        "        \n",
        "      x = x + 1\n",
        "\n",
        "slice_image('out1.jpg',N)\n",
        "result = convert_list_to_string(list2[:N-1])\n",
        "print(\"The Decrypted password is :- \" , result)\n"
      ]
    },
    {
      "cell_type": "code",
      "source": [
        ""
      ],
      "metadata": {
        "id": "7zAHeuO5TBD3"
      },
      "execution_count": null,
      "outputs": []
    }
  ],
  "metadata": {
    "colab": {
      "collapsed_sections": [],
      "name": "encry2.ipynb",
      "provenance": []
    },
    "kernelspec": {
      "display_name": "Python 3",
      "name": "python3"
    },
    "language_info": {
      "name": "python"
    }
  },
  "nbformat": 4,
  "nbformat_minor": 0
}